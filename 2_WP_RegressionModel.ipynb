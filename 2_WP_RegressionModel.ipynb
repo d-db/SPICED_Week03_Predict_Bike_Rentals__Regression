{
 "cells": [
  {
   "cell_type": "markdown",
   "source": [
    "## Introduction to this notebook"
   ],
   "metadata": {
    "collapsed": false
   }
  },
  {
   "cell_type": "markdown",
   "source": [
    "In the previous notebook **1_WP_EDA** we discovered that the following factors have the biggest effect on the amount of rented bikes:\n",
    "* Weather\n",
    "* Season/month\n",
    "* Time of the day\n",
    "* (year)"
   ],
   "metadata": {
    "collapsed": false
   }
  },
  {
   "cell_type": "code",
   "execution_count": 1,
   "outputs": [],
   "source": [
    "import pandas as pd\n",
    "import numpy as np\n",
    "\n",
    "# models\n",
    "from sklearn.linear_model import LinearRegression\n",
    "from sklearn.model_selection import train_test_split\n",
    "\n",
    "# new utils\n",
    "from sklearn.preprocessing import OneHotEncoder, KBinsDiscretizer\n",
    "from sklearn.preprocessing import RobustScaler, StandardScaler, MinMaxScaler\n",
    "from sklearn.preprocessing import FunctionTransformer\n",
    "from sklearn.compose import ColumnTransformer\n",
    "from sklearn.pipeline import Pipeline\n",
    "from sklearn import set_config\n",
    "from sklearn.metrics import r2_score\n",
    "\n",
    "# to visualize the column transformer and pipeline\n",
    "set_config(display='diagram')"
   ],
   "metadata": {
    "collapsed": false
   }
  },
  {
   "cell_type": "code",
   "execution_count": 2,
   "outputs": [],
   "source": [
    "df = pd.read_csv(\"./data/bike-sharing-demand/train.csv\", parse_dates=True, index_col=0)"
   ],
   "metadata": {
    "collapsed": false
   }
  },
  {
   "cell_type": "code",
   "execution_count": 3,
   "outputs": [
    {
     "data": {
      "text/plain": "                     season  holiday  workingday  weather  temp   atemp  \\\ndatetime                                                                  \n2011-01-01 00:00:00       1        0           0        1  9.84  14.395   \n2011-01-01 01:00:00       1        0           0        1  9.02  13.635   \n2011-01-01 02:00:00       1        0           0        1  9.02  13.635   \n2011-01-01 03:00:00       1        0           0        1  9.84  14.395   \n2011-01-01 04:00:00       1        0           0        1  9.84  14.395   \n\n                     humidity  windspeed  casual  registered  count  \ndatetime                                                             \n2011-01-01 00:00:00        81        0.0       3          13     16  \n2011-01-01 01:00:00        80        0.0       8          32     40  \n2011-01-01 02:00:00        80        0.0       5          27     32  \n2011-01-01 03:00:00        75        0.0       3          10     13  \n2011-01-01 04:00:00        75        0.0       0           1      1  ",
      "text/html": "<div>\n<style scoped>\n    .dataframe tbody tr th:only-of-type {\n        vertical-align: middle;\n    }\n\n    .dataframe tbody tr th {\n        vertical-align: top;\n    }\n\n    .dataframe thead th {\n        text-align: right;\n    }\n</style>\n<table border=\"1\" class=\"dataframe\">\n  <thead>\n    <tr style=\"text-align: right;\">\n      <th></th>\n      <th>season</th>\n      <th>holiday</th>\n      <th>workingday</th>\n      <th>weather</th>\n      <th>temp</th>\n      <th>atemp</th>\n      <th>humidity</th>\n      <th>windspeed</th>\n      <th>casual</th>\n      <th>registered</th>\n      <th>count</th>\n    </tr>\n    <tr>\n      <th>datetime</th>\n      <th></th>\n      <th></th>\n      <th></th>\n      <th></th>\n      <th></th>\n      <th></th>\n      <th></th>\n      <th></th>\n      <th></th>\n      <th></th>\n      <th></th>\n    </tr>\n  </thead>\n  <tbody>\n    <tr>\n      <th>2011-01-01 00:00:00</th>\n      <td>1</td>\n      <td>0</td>\n      <td>0</td>\n      <td>1</td>\n      <td>9.84</td>\n      <td>14.395</td>\n      <td>81</td>\n      <td>0.0</td>\n      <td>3</td>\n      <td>13</td>\n      <td>16</td>\n    </tr>\n    <tr>\n      <th>2011-01-01 01:00:00</th>\n      <td>1</td>\n      <td>0</td>\n      <td>0</td>\n      <td>1</td>\n      <td>9.02</td>\n      <td>13.635</td>\n      <td>80</td>\n      <td>0.0</td>\n      <td>8</td>\n      <td>32</td>\n      <td>40</td>\n    </tr>\n    <tr>\n      <th>2011-01-01 02:00:00</th>\n      <td>1</td>\n      <td>0</td>\n      <td>0</td>\n      <td>1</td>\n      <td>9.02</td>\n      <td>13.635</td>\n      <td>80</td>\n      <td>0.0</td>\n      <td>5</td>\n      <td>27</td>\n      <td>32</td>\n    </tr>\n    <tr>\n      <th>2011-01-01 03:00:00</th>\n      <td>1</td>\n      <td>0</td>\n      <td>0</td>\n      <td>1</td>\n      <td>9.84</td>\n      <td>14.395</td>\n      <td>75</td>\n      <td>0.0</td>\n      <td>3</td>\n      <td>10</td>\n      <td>13</td>\n    </tr>\n    <tr>\n      <th>2011-01-01 04:00:00</th>\n      <td>1</td>\n      <td>0</td>\n      <td>0</td>\n      <td>1</td>\n      <td>9.84</td>\n      <td>14.395</td>\n      <td>75</td>\n      <td>0.0</td>\n      <td>0</td>\n      <td>1</td>\n      <td>1</td>\n    </tr>\n  </tbody>\n</table>\n</div>"
     },
     "execution_count": 3,
     "metadata": {},
     "output_type": "execute_result"
    }
   ],
   "source": [
    "df.head()"
   ],
   "metadata": {
    "collapsed": false
   }
  },
  {
   "cell_type": "code",
   "execution_count": 4,
   "outputs": [],
   "source": [
    "# Define a function to extract year, month and hour\n",
    "def extract_year_month_hour(df):\n",
    "    df = df.copy()\n",
    "    df[\"year\"] = df.index.year\n",
    "    df[\"month\"] = df.index.month\n",
    "    df[\"hour\"] = df.index.hour\n",
    "    return df"
   ],
   "metadata": {
    "collapsed": false
   }
  },
  {
   "cell_type": "code",
   "execution_count": 5,
   "outputs": [],
   "source": [
    "preprocessor_1 = FunctionTransformer(extract_year_month_hour)"
   ],
   "metadata": {
    "collapsed": false
   }
  },
  {
   "cell_type": "code",
   "execution_count": 6,
   "outputs": [],
   "source": [
    "numeric_features = [\"atemp\", \"humidity\", \"windspeed\"]\n",
    "numeric_transformer = StandardScaler()\n",
    "\n",
    "categorical_features = [\"season\", \"holiday\", \"workingday\", \"weather\", \"year\", \"month\", \"hour\"]\n",
    "categorical_transformer = OneHotEncoder(handle_unknown=\"ignore\")"
   ],
   "metadata": {
    "collapsed": false
   }
  },
  {
   "cell_type": "code",
   "execution_count": 7,
   "outputs": [],
   "source": [
    "preprocessor_2 = ColumnTransformer(\n",
    "    [\n",
    "        (\"num\", numeric_transformer, numeric_features),\n",
    "        (\"cat\", categorical_transformer, categorical_features)],\n",
    "    remainder = 'passthrough'\n",
    ")"
   ],
   "metadata": {
    "collapsed": false
   }
  },
  {
   "cell_type": "code",
   "execution_count": 8,
   "outputs": [],
   "source": [
    "linear_reg_pipeline = Pipeline(steps=[\n",
    "    (\"create_new_columns\", preprocessor_1),\n",
    "    (\"ColumnTransformer\", preprocessor_2),\n",
    "    (\"classifier\", LinearRegression())\n",
    "])"
   ],
   "metadata": {
    "collapsed": false
   }
  },
  {
   "cell_type": "markdown",
   "source": [
    "## Train/Test Split"
   ],
   "metadata": {
    "collapsed": false
   }
  },
  {
   "cell_type": "code",
   "execution_count": 9,
   "outputs": [],
   "source": [
    "y = df[\"count\"]\n",
    "X = df.loc[:, df.columns != \"count\"]"
   ],
   "metadata": {
    "collapsed": false
   }
  },
  {
   "cell_type": "code",
   "execution_count": 10,
   "outputs": [
    {
     "data": {
      "text/plain": "((8708, 10), (2178, 10), (8708,), (2178,))"
     },
     "execution_count": 10,
     "metadata": {},
     "output_type": "execute_result"
    }
   ],
   "source": [
    "X_train, X_test, y_train, y_test = train_test_split(X, y, test_size = .2, random_state = 85)\n",
    "X_train.shape, X_test.shape, y_train.shape, y_test.shape"
   ],
   "metadata": {
    "collapsed": false
   }
  },
  {
   "cell_type": "markdown",
   "source": [
    "## Applying the model"
   ],
   "metadata": {
    "collapsed": false
   }
  },
  {
   "cell_type": "code",
   "execution_count": 11,
   "outputs": [
    {
     "data": {
      "text/plain": "Pipeline(steps=[('create_new_columns',\n                 FunctionTransformer(func=<function extract_year_month_hour at 0x7fcaf8c44c10>)),\n                ('ColumnTransformer',\n                 ColumnTransformer(remainder='passthrough',\n                                   transformers=[('num', StandardScaler(),\n                                                  ['atemp', 'humidity',\n                                                   'windspeed']),\n                                                 ('cat',\n                                                  OneHotEncoder(handle_unknown='ignore'),\n                                                  ['season', 'holiday',\n                                                   'workingday', 'weather',\n                                                   'year', 'month',\n                                                   'hour'])])),\n                ('classifier', LinearRegression())])",
      "text/html": "<style>#sk-6a2b053b-0ba9-417f-b302-892da5e9c1c3 {color: black;background-color: white;}#sk-6a2b053b-0ba9-417f-b302-892da5e9c1c3 pre{padding: 0;}#sk-6a2b053b-0ba9-417f-b302-892da5e9c1c3 div.sk-toggleable {background-color: white;}#sk-6a2b053b-0ba9-417f-b302-892da5e9c1c3 label.sk-toggleable__label {cursor: pointer;display: block;width: 100%;margin-bottom: 0;padding: 0.3em;box-sizing: border-box;text-align: center;}#sk-6a2b053b-0ba9-417f-b302-892da5e9c1c3 label.sk-toggleable__label-arrow:before {content: \"▸\";float: left;margin-right: 0.25em;color: #696969;}#sk-6a2b053b-0ba9-417f-b302-892da5e9c1c3 label.sk-toggleable__label-arrow:hover:before {color: black;}#sk-6a2b053b-0ba9-417f-b302-892da5e9c1c3 div.sk-estimator:hover label.sk-toggleable__label-arrow:before {color: black;}#sk-6a2b053b-0ba9-417f-b302-892da5e9c1c3 div.sk-toggleable__content {max-height: 0;max-width: 0;overflow: hidden;text-align: left;background-color: #f0f8ff;}#sk-6a2b053b-0ba9-417f-b302-892da5e9c1c3 div.sk-toggleable__content pre {margin: 0.2em;color: black;border-radius: 0.25em;background-color: #f0f8ff;}#sk-6a2b053b-0ba9-417f-b302-892da5e9c1c3 input.sk-toggleable__control:checked~div.sk-toggleable__content {max-height: 200px;max-width: 100%;overflow: auto;}#sk-6a2b053b-0ba9-417f-b302-892da5e9c1c3 input.sk-toggleable__control:checked~label.sk-toggleable__label-arrow:before {content: \"▾\";}#sk-6a2b053b-0ba9-417f-b302-892da5e9c1c3 div.sk-estimator input.sk-toggleable__control:checked~label.sk-toggleable__label {background-color: #d4ebff;}#sk-6a2b053b-0ba9-417f-b302-892da5e9c1c3 div.sk-label input.sk-toggleable__control:checked~label.sk-toggleable__label {background-color: #d4ebff;}#sk-6a2b053b-0ba9-417f-b302-892da5e9c1c3 input.sk-hidden--visually {border: 0;clip: rect(1px 1px 1px 1px);clip: rect(1px, 1px, 1px, 1px);height: 1px;margin: -1px;overflow: hidden;padding: 0;position: absolute;width: 1px;}#sk-6a2b053b-0ba9-417f-b302-892da5e9c1c3 div.sk-estimator {font-family: monospace;background-color: #f0f8ff;border: 1px dotted black;border-radius: 0.25em;box-sizing: border-box;margin-bottom: 0.5em;}#sk-6a2b053b-0ba9-417f-b302-892da5e9c1c3 div.sk-estimator:hover {background-color: #d4ebff;}#sk-6a2b053b-0ba9-417f-b302-892da5e9c1c3 div.sk-parallel-item::after {content: \"\";width: 100%;border-bottom: 1px solid gray;flex-grow: 1;}#sk-6a2b053b-0ba9-417f-b302-892da5e9c1c3 div.sk-label:hover label.sk-toggleable__label {background-color: #d4ebff;}#sk-6a2b053b-0ba9-417f-b302-892da5e9c1c3 div.sk-serial::before {content: \"\";position: absolute;border-left: 1px solid gray;box-sizing: border-box;top: 2em;bottom: 0;left: 50%;}#sk-6a2b053b-0ba9-417f-b302-892da5e9c1c3 div.sk-serial {display: flex;flex-direction: column;align-items: center;background-color: white;padding-right: 0.2em;padding-left: 0.2em;}#sk-6a2b053b-0ba9-417f-b302-892da5e9c1c3 div.sk-item {z-index: 1;}#sk-6a2b053b-0ba9-417f-b302-892da5e9c1c3 div.sk-parallel {display: flex;align-items: stretch;justify-content: center;background-color: white;}#sk-6a2b053b-0ba9-417f-b302-892da5e9c1c3 div.sk-parallel::before {content: \"\";position: absolute;border-left: 1px solid gray;box-sizing: border-box;top: 2em;bottom: 0;left: 50%;}#sk-6a2b053b-0ba9-417f-b302-892da5e9c1c3 div.sk-parallel-item {display: flex;flex-direction: column;position: relative;background-color: white;}#sk-6a2b053b-0ba9-417f-b302-892da5e9c1c3 div.sk-parallel-item:first-child::after {align-self: flex-end;width: 50%;}#sk-6a2b053b-0ba9-417f-b302-892da5e9c1c3 div.sk-parallel-item:last-child::after {align-self: flex-start;width: 50%;}#sk-6a2b053b-0ba9-417f-b302-892da5e9c1c3 div.sk-parallel-item:only-child::after {width: 0;}#sk-6a2b053b-0ba9-417f-b302-892da5e9c1c3 div.sk-dashed-wrapped {border: 1px dashed gray;margin: 0 0.4em 0.5em 0.4em;box-sizing: border-box;padding-bottom: 0.4em;background-color: white;position: relative;}#sk-6a2b053b-0ba9-417f-b302-892da5e9c1c3 div.sk-label label {font-family: monospace;font-weight: bold;background-color: white;display: inline-block;line-height: 1.2em;}#sk-6a2b053b-0ba9-417f-b302-892da5e9c1c3 div.sk-label-container {position: relative;z-index: 2;text-align: center;}#sk-6a2b053b-0ba9-417f-b302-892da5e9c1c3 div.sk-container {/* jupyter's `normalize.less` sets `[hidden] { display: none; }` but bootstrap.min.css set `[hidden] { display: none !important; }` so we also need the `!important` here to be able to override the default hidden behavior on the sphinx rendered scikit-learn.org. See: https://github.com/scikit-learn/scikit-learn/issues/21755 */display: inline-block !important;position: relative;}#sk-6a2b053b-0ba9-417f-b302-892da5e9c1c3 div.sk-text-repr-fallback {display: none;}</style><div id=\"sk-6a2b053b-0ba9-417f-b302-892da5e9c1c3\" class=\"sk-top-container\"><div class=\"sk-text-repr-fallback\"><pre>Pipeline(steps=[(&#x27;create_new_columns&#x27;,\n                 FunctionTransformer(func=&lt;function extract_year_month_hour at 0x7fcaf8c44c10&gt;)),\n                (&#x27;ColumnTransformer&#x27;,\n                 ColumnTransformer(remainder=&#x27;passthrough&#x27;,\n                                   transformers=[(&#x27;num&#x27;, StandardScaler(),\n                                                  [&#x27;atemp&#x27;, &#x27;humidity&#x27;,\n                                                   &#x27;windspeed&#x27;]),\n                                                 (&#x27;cat&#x27;,\n                                                  OneHotEncoder(handle_unknown=&#x27;ignore&#x27;),\n                                                  [&#x27;season&#x27;, &#x27;holiday&#x27;,\n                                                   &#x27;workingday&#x27;, &#x27;weather&#x27;,\n                                                   &#x27;year&#x27;, &#x27;month&#x27;,\n                                                   &#x27;hour&#x27;])])),\n                (&#x27;classifier&#x27;, LinearRegression())])</pre><b>Please rerun this cell to show the HTML repr or trust the notebook.</b></div><div class=\"sk-container\" hidden><div class=\"sk-item sk-dashed-wrapped\"><div class=\"sk-label-container\"><div class=\"sk-label sk-toggleable\"><input class=\"sk-toggleable__control sk-hidden--visually\" id=\"1eac8015-68c9-400e-aed3-0040b33c77cd\" type=\"checkbox\" ><label for=\"1eac8015-68c9-400e-aed3-0040b33c77cd\" class=\"sk-toggleable__label sk-toggleable__label-arrow\">Pipeline</label><div class=\"sk-toggleable__content\"><pre>Pipeline(steps=[(&#x27;create_new_columns&#x27;,\n                 FunctionTransformer(func=&lt;function extract_year_month_hour at 0x7fcaf8c44c10&gt;)),\n                (&#x27;ColumnTransformer&#x27;,\n                 ColumnTransformer(remainder=&#x27;passthrough&#x27;,\n                                   transformers=[(&#x27;num&#x27;, StandardScaler(),\n                                                  [&#x27;atemp&#x27;, &#x27;humidity&#x27;,\n                                                   &#x27;windspeed&#x27;]),\n                                                 (&#x27;cat&#x27;,\n                                                  OneHotEncoder(handle_unknown=&#x27;ignore&#x27;),\n                                                  [&#x27;season&#x27;, &#x27;holiday&#x27;,\n                                                   &#x27;workingday&#x27;, &#x27;weather&#x27;,\n                                                   &#x27;year&#x27;, &#x27;month&#x27;,\n                                                   &#x27;hour&#x27;])])),\n                (&#x27;classifier&#x27;, LinearRegression())])</pre></div></div></div><div class=\"sk-serial\"><div class=\"sk-item\"><div class=\"sk-estimator sk-toggleable\"><input class=\"sk-toggleable__control sk-hidden--visually\" id=\"a05999ed-479c-48d4-ab50-962bb6e25784\" type=\"checkbox\" ><label for=\"a05999ed-479c-48d4-ab50-962bb6e25784\" class=\"sk-toggleable__label sk-toggleable__label-arrow\">FunctionTransformer</label><div class=\"sk-toggleable__content\"><pre>FunctionTransformer(func=&lt;function extract_year_month_hour at 0x7fcaf8c44c10&gt;)</pre></div></div></div><div class=\"sk-item sk-dashed-wrapped\"><div class=\"sk-label-container\"><div class=\"sk-label sk-toggleable\"><input class=\"sk-toggleable__control sk-hidden--visually\" id=\"08395329-312c-4e71-9a07-720d59fc7670\" type=\"checkbox\" ><label for=\"08395329-312c-4e71-9a07-720d59fc7670\" class=\"sk-toggleable__label sk-toggleable__label-arrow\">ColumnTransformer: ColumnTransformer</label><div class=\"sk-toggleable__content\"><pre>ColumnTransformer(remainder=&#x27;passthrough&#x27;,\n                  transformers=[(&#x27;num&#x27;, StandardScaler(),\n                                 [&#x27;atemp&#x27;, &#x27;humidity&#x27;, &#x27;windspeed&#x27;]),\n                                (&#x27;cat&#x27;, OneHotEncoder(handle_unknown=&#x27;ignore&#x27;),\n                                 [&#x27;season&#x27;, &#x27;holiday&#x27;, &#x27;workingday&#x27;, &#x27;weather&#x27;,\n                                  &#x27;year&#x27;, &#x27;month&#x27;, &#x27;hour&#x27;])])</pre></div></div></div><div class=\"sk-parallel\"><div class=\"sk-parallel-item\"><div class=\"sk-item\"><div class=\"sk-label-container\"><div class=\"sk-label sk-toggleable\"><input class=\"sk-toggleable__control sk-hidden--visually\" id=\"a6ed1e4b-60ed-477b-b41c-42addf54b623\" type=\"checkbox\" ><label for=\"a6ed1e4b-60ed-477b-b41c-42addf54b623\" class=\"sk-toggleable__label sk-toggleable__label-arrow\">num</label><div class=\"sk-toggleable__content\"><pre>[&#x27;atemp&#x27;, &#x27;humidity&#x27;, &#x27;windspeed&#x27;]</pre></div></div></div><div class=\"sk-serial\"><div class=\"sk-item\"><div class=\"sk-estimator sk-toggleable\"><input class=\"sk-toggleable__control sk-hidden--visually\" id=\"68554beb-d902-47fb-b0c0-6dac0c92f87b\" type=\"checkbox\" ><label for=\"68554beb-d902-47fb-b0c0-6dac0c92f87b\" class=\"sk-toggleable__label sk-toggleable__label-arrow\">StandardScaler</label><div class=\"sk-toggleable__content\"><pre>StandardScaler()</pre></div></div></div></div></div></div><div class=\"sk-parallel-item\"><div class=\"sk-item\"><div class=\"sk-label-container\"><div class=\"sk-label sk-toggleable\"><input class=\"sk-toggleable__control sk-hidden--visually\" id=\"4eef33f3-5a9c-430d-950f-77f2551a825d\" type=\"checkbox\" ><label for=\"4eef33f3-5a9c-430d-950f-77f2551a825d\" class=\"sk-toggleable__label sk-toggleable__label-arrow\">cat</label><div class=\"sk-toggleable__content\"><pre>[&#x27;season&#x27;, &#x27;holiday&#x27;, &#x27;workingday&#x27;, &#x27;weather&#x27;, &#x27;year&#x27;, &#x27;month&#x27;, &#x27;hour&#x27;]</pre></div></div></div><div class=\"sk-serial\"><div class=\"sk-item\"><div class=\"sk-estimator sk-toggleable\"><input class=\"sk-toggleable__control sk-hidden--visually\" id=\"dbe6ed8c-547b-47c4-afdf-b7d3e404704f\" type=\"checkbox\" ><label for=\"dbe6ed8c-547b-47c4-afdf-b7d3e404704f\" class=\"sk-toggleable__label sk-toggleable__label-arrow\">OneHotEncoder</label><div class=\"sk-toggleable__content\"><pre>OneHotEncoder(handle_unknown=&#x27;ignore&#x27;)</pre></div></div></div></div></div></div><div class=\"sk-parallel-item\"><div class=\"sk-item\"><div class=\"sk-label-container\"><div class=\"sk-label sk-toggleable\"><input class=\"sk-toggleable__control sk-hidden--visually\" id=\"6ca98ecf-49c5-4047-b854-01aa782d1ae6\" type=\"checkbox\" ><label for=\"6ca98ecf-49c5-4047-b854-01aa782d1ae6\" class=\"sk-toggleable__label sk-toggleable__label-arrow\">remainder</label><div class=\"sk-toggleable__content\"><pre>[&#x27;temp&#x27;, &#x27;casual&#x27;, &#x27;registered&#x27;]</pre></div></div></div><div class=\"sk-serial\"><div class=\"sk-item\"><div class=\"sk-estimator sk-toggleable\"><input class=\"sk-toggleable__control sk-hidden--visually\" id=\"f760261e-e434-4e65-9278-1f232a768286\" type=\"checkbox\" ><label for=\"f760261e-e434-4e65-9278-1f232a768286\" class=\"sk-toggleable__label sk-toggleable__label-arrow\">passthrough</label><div class=\"sk-toggleable__content\"><pre>passthrough</pre></div></div></div></div></div></div></div></div><div class=\"sk-item\"><div class=\"sk-estimator sk-toggleable\"><input class=\"sk-toggleable__control sk-hidden--visually\" id=\"59409176-d464-4abb-a1cd-5b16eaaba7a2\" type=\"checkbox\" ><label for=\"59409176-d464-4abb-a1cd-5b16eaaba7a2\" class=\"sk-toggleable__label sk-toggleable__label-arrow\">LinearRegression</label><div class=\"sk-toggleable__content\"><pre>LinearRegression()</pre></div></div></div></div></div></div></div>"
     },
     "execution_count": 11,
     "metadata": {},
     "output_type": "execute_result"
    }
   ],
   "source": [
    "linear_reg_pipeline.fit(X_train, y_train)"
   ],
   "metadata": {
    "collapsed": false
   }
  },
  {
   "cell_type": "code",
   "execution_count": 12,
   "outputs": [
    {
     "name": "stdout",
     "output_type": "stream",
     "text": [
      "The train R2-score of the linear regression is: 1.0\n",
      "The test R2-score of the linear regression is: 1.0\n"
     ]
    }
   ],
   "source": [
    "print(f\"\"\"The train R2-score of the linear regression is: {round(linear_reg_pipeline.score(X_train, y_train), 2)}\n",
    "The test R2-score of the linear regression is: {round(linear_reg_pipeline.score(X_test, y_test), 2)}\"\"\")"
   ],
   "metadata": {
    "collapsed": false
   }
  },
  {
   "cell_type": "code",
   "execution_count": 13,
   "outputs": [],
   "source": [
    "#y_predict = linear_reg_pipeline.predict(X_test)"
   ],
   "metadata": {
    "collapsed": false
   }
  },
  {
   "cell_type": "code",
   "execution_count": 14,
   "outputs": [],
   "source": [
    "#print(f\"{round(len(y_predict[y_predict < 0])/len(y_predict), 2)}% of the values are negative. This needs to be corrected since negative values are impossible in the context of our bikesharing example.\")"
   ],
   "metadata": {
    "collapsed": false
   }
  },
  {
   "cell_type": "markdown",
   "source": [
    "## Avoid negative values"
   ],
   "metadata": {
    "collapsed": false
   }
  },
  {
   "cell_type": "markdown",
   "source": [
    "### Using the log-values"
   ],
   "metadata": {
    "collapsed": false
   }
  },
  {
   "cell_type": "code",
   "execution_count": 15,
   "outputs": [
    {
     "data": {
      "text/plain": "Pipeline(steps=[('create_new_columns',\n                 FunctionTransformer(func=<function extract_year_month_hour at 0x7fcaf8c44c10>)),\n                ('ColumnTransformer',\n                 ColumnTransformer(remainder='passthrough',\n                                   transformers=[('num', StandardScaler(),\n                                                  ['atemp', 'humidity',\n                                                   'windspeed']),\n                                                 ('cat',\n                                                  OneHotEncoder(handle_unknown='ignore'),\n                                                  ['season', 'holiday',\n                                                   'workingday', 'weather',\n                                                   'year', 'month',\n                                                   'hour'])])),\n                ('classifier', LinearRegression())])",
      "text/html": "<style>#sk-0cd5a55c-46d2-475d-b96d-5283af2d4033 {color: black;background-color: white;}#sk-0cd5a55c-46d2-475d-b96d-5283af2d4033 pre{padding: 0;}#sk-0cd5a55c-46d2-475d-b96d-5283af2d4033 div.sk-toggleable {background-color: white;}#sk-0cd5a55c-46d2-475d-b96d-5283af2d4033 label.sk-toggleable__label {cursor: pointer;display: block;width: 100%;margin-bottom: 0;padding: 0.3em;box-sizing: border-box;text-align: center;}#sk-0cd5a55c-46d2-475d-b96d-5283af2d4033 label.sk-toggleable__label-arrow:before {content: \"▸\";float: left;margin-right: 0.25em;color: #696969;}#sk-0cd5a55c-46d2-475d-b96d-5283af2d4033 label.sk-toggleable__label-arrow:hover:before {color: black;}#sk-0cd5a55c-46d2-475d-b96d-5283af2d4033 div.sk-estimator:hover label.sk-toggleable__label-arrow:before {color: black;}#sk-0cd5a55c-46d2-475d-b96d-5283af2d4033 div.sk-toggleable__content {max-height: 0;max-width: 0;overflow: hidden;text-align: left;background-color: #f0f8ff;}#sk-0cd5a55c-46d2-475d-b96d-5283af2d4033 div.sk-toggleable__content pre {margin: 0.2em;color: black;border-radius: 0.25em;background-color: #f0f8ff;}#sk-0cd5a55c-46d2-475d-b96d-5283af2d4033 input.sk-toggleable__control:checked~div.sk-toggleable__content {max-height: 200px;max-width: 100%;overflow: auto;}#sk-0cd5a55c-46d2-475d-b96d-5283af2d4033 input.sk-toggleable__control:checked~label.sk-toggleable__label-arrow:before {content: \"▾\";}#sk-0cd5a55c-46d2-475d-b96d-5283af2d4033 div.sk-estimator input.sk-toggleable__control:checked~label.sk-toggleable__label {background-color: #d4ebff;}#sk-0cd5a55c-46d2-475d-b96d-5283af2d4033 div.sk-label input.sk-toggleable__control:checked~label.sk-toggleable__label {background-color: #d4ebff;}#sk-0cd5a55c-46d2-475d-b96d-5283af2d4033 input.sk-hidden--visually {border: 0;clip: rect(1px 1px 1px 1px);clip: rect(1px, 1px, 1px, 1px);height: 1px;margin: -1px;overflow: hidden;padding: 0;position: absolute;width: 1px;}#sk-0cd5a55c-46d2-475d-b96d-5283af2d4033 div.sk-estimator {font-family: monospace;background-color: #f0f8ff;border: 1px dotted black;border-radius: 0.25em;box-sizing: border-box;margin-bottom: 0.5em;}#sk-0cd5a55c-46d2-475d-b96d-5283af2d4033 div.sk-estimator:hover {background-color: #d4ebff;}#sk-0cd5a55c-46d2-475d-b96d-5283af2d4033 div.sk-parallel-item::after {content: \"\";width: 100%;border-bottom: 1px solid gray;flex-grow: 1;}#sk-0cd5a55c-46d2-475d-b96d-5283af2d4033 div.sk-label:hover label.sk-toggleable__label {background-color: #d4ebff;}#sk-0cd5a55c-46d2-475d-b96d-5283af2d4033 div.sk-serial::before {content: \"\";position: absolute;border-left: 1px solid gray;box-sizing: border-box;top: 2em;bottom: 0;left: 50%;}#sk-0cd5a55c-46d2-475d-b96d-5283af2d4033 div.sk-serial {display: flex;flex-direction: column;align-items: center;background-color: white;padding-right: 0.2em;padding-left: 0.2em;}#sk-0cd5a55c-46d2-475d-b96d-5283af2d4033 div.sk-item {z-index: 1;}#sk-0cd5a55c-46d2-475d-b96d-5283af2d4033 div.sk-parallel {display: flex;align-items: stretch;justify-content: center;background-color: white;}#sk-0cd5a55c-46d2-475d-b96d-5283af2d4033 div.sk-parallel::before {content: \"\";position: absolute;border-left: 1px solid gray;box-sizing: border-box;top: 2em;bottom: 0;left: 50%;}#sk-0cd5a55c-46d2-475d-b96d-5283af2d4033 div.sk-parallel-item {display: flex;flex-direction: column;position: relative;background-color: white;}#sk-0cd5a55c-46d2-475d-b96d-5283af2d4033 div.sk-parallel-item:first-child::after {align-self: flex-end;width: 50%;}#sk-0cd5a55c-46d2-475d-b96d-5283af2d4033 div.sk-parallel-item:last-child::after {align-self: flex-start;width: 50%;}#sk-0cd5a55c-46d2-475d-b96d-5283af2d4033 div.sk-parallel-item:only-child::after {width: 0;}#sk-0cd5a55c-46d2-475d-b96d-5283af2d4033 div.sk-dashed-wrapped {border: 1px dashed gray;margin: 0 0.4em 0.5em 0.4em;box-sizing: border-box;padding-bottom: 0.4em;background-color: white;position: relative;}#sk-0cd5a55c-46d2-475d-b96d-5283af2d4033 div.sk-label label {font-family: monospace;font-weight: bold;background-color: white;display: inline-block;line-height: 1.2em;}#sk-0cd5a55c-46d2-475d-b96d-5283af2d4033 div.sk-label-container {position: relative;z-index: 2;text-align: center;}#sk-0cd5a55c-46d2-475d-b96d-5283af2d4033 div.sk-container {/* jupyter's `normalize.less` sets `[hidden] { display: none; }` but bootstrap.min.css set `[hidden] { display: none !important; }` so we also need the `!important` here to be able to override the default hidden behavior on the sphinx rendered scikit-learn.org. See: https://github.com/scikit-learn/scikit-learn/issues/21755 */display: inline-block !important;position: relative;}#sk-0cd5a55c-46d2-475d-b96d-5283af2d4033 div.sk-text-repr-fallback {display: none;}</style><div id=\"sk-0cd5a55c-46d2-475d-b96d-5283af2d4033\" class=\"sk-top-container\"><div class=\"sk-text-repr-fallback\"><pre>Pipeline(steps=[(&#x27;create_new_columns&#x27;,\n                 FunctionTransformer(func=&lt;function extract_year_month_hour at 0x7fcaf8c44c10&gt;)),\n                (&#x27;ColumnTransformer&#x27;,\n                 ColumnTransformer(remainder=&#x27;passthrough&#x27;,\n                                   transformers=[(&#x27;num&#x27;, StandardScaler(),\n                                                  [&#x27;atemp&#x27;, &#x27;humidity&#x27;,\n                                                   &#x27;windspeed&#x27;]),\n                                                 (&#x27;cat&#x27;,\n                                                  OneHotEncoder(handle_unknown=&#x27;ignore&#x27;),\n                                                  [&#x27;season&#x27;, &#x27;holiday&#x27;,\n                                                   &#x27;workingday&#x27;, &#x27;weather&#x27;,\n                                                   &#x27;year&#x27;, &#x27;month&#x27;,\n                                                   &#x27;hour&#x27;])])),\n                (&#x27;classifier&#x27;, LinearRegression())])</pre><b>Please rerun this cell to show the HTML repr or trust the notebook.</b></div><div class=\"sk-container\" hidden><div class=\"sk-item sk-dashed-wrapped\"><div class=\"sk-label-container\"><div class=\"sk-label sk-toggleable\"><input class=\"sk-toggleable__control sk-hidden--visually\" id=\"158928c0-e348-4912-8984-d7858c54a199\" type=\"checkbox\" ><label for=\"158928c0-e348-4912-8984-d7858c54a199\" class=\"sk-toggleable__label sk-toggleable__label-arrow\">Pipeline</label><div class=\"sk-toggleable__content\"><pre>Pipeline(steps=[(&#x27;create_new_columns&#x27;,\n                 FunctionTransformer(func=&lt;function extract_year_month_hour at 0x7fcaf8c44c10&gt;)),\n                (&#x27;ColumnTransformer&#x27;,\n                 ColumnTransformer(remainder=&#x27;passthrough&#x27;,\n                                   transformers=[(&#x27;num&#x27;, StandardScaler(),\n                                                  [&#x27;atemp&#x27;, &#x27;humidity&#x27;,\n                                                   &#x27;windspeed&#x27;]),\n                                                 (&#x27;cat&#x27;,\n                                                  OneHotEncoder(handle_unknown=&#x27;ignore&#x27;),\n                                                  [&#x27;season&#x27;, &#x27;holiday&#x27;,\n                                                   &#x27;workingday&#x27;, &#x27;weather&#x27;,\n                                                   &#x27;year&#x27;, &#x27;month&#x27;,\n                                                   &#x27;hour&#x27;])])),\n                (&#x27;classifier&#x27;, LinearRegression())])</pre></div></div></div><div class=\"sk-serial\"><div class=\"sk-item\"><div class=\"sk-estimator sk-toggleable\"><input class=\"sk-toggleable__control sk-hidden--visually\" id=\"aaaa630f-f753-4fe9-b356-327ea0523955\" type=\"checkbox\" ><label for=\"aaaa630f-f753-4fe9-b356-327ea0523955\" class=\"sk-toggleable__label sk-toggleable__label-arrow\">FunctionTransformer</label><div class=\"sk-toggleable__content\"><pre>FunctionTransformer(func=&lt;function extract_year_month_hour at 0x7fcaf8c44c10&gt;)</pre></div></div></div><div class=\"sk-item sk-dashed-wrapped\"><div class=\"sk-label-container\"><div class=\"sk-label sk-toggleable\"><input class=\"sk-toggleable__control sk-hidden--visually\" id=\"b8e2e4d3-2359-40cc-845b-478aee0d0205\" type=\"checkbox\" ><label for=\"b8e2e4d3-2359-40cc-845b-478aee0d0205\" class=\"sk-toggleable__label sk-toggleable__label-arrow\">ColumnTransformer: ColumnTransformer</label><div class=\"sk-toggleable__content\"><pre>ColumnTransformer(remainder=&#x27;passthrough&#x27;,\n                  transformers=[(&#x27;num&#x27;, StandardScaler(),\n                                 [&#x27;atemp&#x27;, &#x27;humidity&#x27;, &#x27;windspeed&#x27;]),\n                                (&#x27;cat&#x27;, OneHotEncoder(handle_unknown=&#x27;ignore&#x27;),\n                                 [&#x27;season&#x27;, &#x27;holiday&#x27;, &#x27;workingday&#x27;, &#x27;weather&#x27;,\n                                  &#x27;year&#x27;, &#x27;month&#x27;, &#x27;hour&#x27;])])</pre></div></div></div><div class=\"sk-parallel\"><div class=\"sk-parallel-item\"><div class=\"sk-item\"><div class=\"sk-label-container\"><div class=\"sk-label sk-toggleable\"><input class=\"sk-toggleable__control sk-hidden--visually\" id=\"b4745a03-f5f1-4afd-b189-6b960fcee178\" type=\"checkbox\" ><label for=\"b4745a03-f5f1-4afd-b189-6b960fcee178\" class=\"sk-toggleable__label sk-toggleable__label-arrow\">num</label><div class=\"sk-toggleable__content\"><pre>[&#x27;atemp&#x27;, &#x27;humidity&#x27;, &#x27;windspeed&#x27;]</pre></div></div></div><div class=\"sk-serial\"><div class=\"sk-item\"><div class=\"sk-estimator sk-toggleable\"><input class=\"sk-toggleable__control sk-hidden--visually\" id=\"6b4f2cb7-61eb-4c40-9a65-6e125ed31279\" type=\"checkbox\" ><label for=\"6b4f2cb7-61eb-4c40-9a65-6e125ed31279\" class=\"sk-toggleable__label sk-toggleable__label-arrow\">StandardScaler</label><div class=\"sk-toggleable__content\"><pre>StandardScaler()</pre></div></div></div></div></div></div><div class=\"sk-parallel-item\"><div class=\"sk-item\"><div class=\"sk-label-container\"><div class=\"sk-label sk-toggleable\"><input class=\"sk-toggleable__control sk-hidden--visually\" id=\"de7f89ad-2803-4e48-bcc6-260ba675617e\" type=\"checkbox\" ><label for=\"de7f89ad-2803-4e48-bcc6-260ba675617e\" class=\"sk-toggleable__label sk-toggleable__label-arrow\">cat</label><div class=\"sk-toggleable__content\"><pre>[&#x27;season&#x27;, &#x27;holiday&#x27;, &#x27;workingday&#x27;, &#x27;weather&#x27;, &#x27;year&#x27;, &#x27;month&#x27;, &#x27;hour&#x27;]</pre></div></div></div><div class=\"sk-serial\"><div class=\"sk-item\"><div class=\"sk-estimator sk-toggleable\"><input class=\"sk-toggleable__control sk-hidden--visually\" id=\"c52bcb97-e943-42c7-a70d-c51f68e664c3\" type=\"checkbox\" ><label for=\"c52bcb97-e943-42c7-a70d-c51f68e664c3\" class=\"sk-toggleable__label sk-toggleable__label-arrow\">OneHotEncoder</label><div class=\"sk-toggleable__content\"><pre>OneHotEncoder(handle_unknown=&#x27;ignore&#x27;)</pre></div></div></div></div></div></div><div class=\"sk-parallel-item\"><div class=\"sk-item\"><div class=\"sk-label-container\"><div class=\"sk-label sk-toggleable\"><input class=\"sk-toggleable__control sk-hidden--visually\" id=\"34c6d7d6-7c62-40fe-b774-597c455be14e\" type=\"checkbox\" ><label for=\"34c6d7d6-7c62-40fe-b774-597c455be14e\" class=\"sk-toggleable__label sk-toggleable__label-arrow\">remainder</label><div class=\"sk-toggleable__content\"><pre>[&#x27;temp&#x27;, &#x27;casual&#x27;, &#x27;registered&#x27;]</pre></div></div></div><div class=\"sk-serial\"><div class=\"sk-item\"><div class=\"sk-estimator sk-toggleable\"><input class=\"sk-toggleable__control sk-hidden--visually\" id=\"dcf67661-0e9b-4105-ab79-5d307c4d2e40\" type=\"checkbox\" ><label for=\"dcf67661-0e9b-4105-ab79-5d307c4d2e40\" class=\"sk-toggleable__label sk-toggleable__label-arrow\">passthrough</label><div class=\"sk-toggleable__content\"><pre>passthrough</pre></div></div></div></div></div></div></div></div><div class=\"sk-item\"><div class=\"sk-estimator sk-toggleable\"><input class=\"sk-toggleable__control sk-hidden--visually\" id=\"fc8fd7a4-9982-4876-92f9-18bba17eb43c\" type=\"checkbox\" ><label for=\"fc8fd7a4-9982-4876-92f9-18bba17eb43c\" class=\"sk-toggleable__label sk-toggleable__label-arrow\">LinearRegression</label><div class=\"sk-toggleable__content\"><pre>LinearRegression()</pre></div></div></div></div></div></div></div>"
     },
     "execution_count": 15,
     "metadata": {},
     "output_type": "execute_result"
    }
   ],
   "source": [
    "linear_reg_pipeline.fit(X_train, np.log1p(y_train))"
   ],
   "metadata": {
    "collapsed": false
   }
  },
  {
   "cell_type": "code",
   "execution_count": 16,
   "outputs": [
    {
     "name": "stdout",
     "output_type": "stream",
     "text": [
      "The train R2-score of the linear regression with log-values is: 0.89\n",
      "The test R2-score of the linear regression with log-values is: 0.89\n"
     ]
    }
   ],
   "source": [
    "print(f\"\"\"The train R2-score of the linear regression with log-values is: {round(linear_reg_pipeline.score(X_train,np.log1p(y_train)),2)}\n",
    "The test R2-score of the linear regression with log-values is: {round(linear_reg_pipeline.score(X_test,np.log1p(y_test)),2)}\"\"\")"
   ],
   "metadata": {
    "collapsed": false
   }
  },
  {
   "cell_type": "markdown",
   "source": [
    "### Using the log-values but calculating the R2-Score with the reversed log-values"
   ],
   "metadata": {
    "collapsed": false
   }
  },
  {
   "cell_type": "code",
   "execution_count": 17,
   "outputs": [],
   "source": [
    "y_predict = linear_reg_pipeline.predict(X_test)\n",
    "y_predict = np.expm1(y_predict).astype(\"int\")"
   ],
   "metadata": {
    "collapsed": false
   }
  },
  {
   "cell_type": "code",
   "execution_count": 18,
   "outputs": [
    {
     "name": "stdout",
     "output_type": "stream",
     "text": [
      "The R2 score of the train data after the reversed log-transformation is 0.74\n"
     ]
    }
   ],
   "source": [
    "print(f\"The R2 score of the train data after the reversed log-transformation is {round(r2_score(y_predict, y_test), 2)}\")"
   ],
   "metadata": {
    "collapsed": false
   }
  },
  {
   "cell_type": "markdown",
   "source": [
    "### Add the 'positive' Argument to the LinearRegression()"
   ],
   "metadata": {
    "collapsed": false
   }
  },
  {
   "cell_type": "code",
   "execution_count": 19,
   "outputs": [],
   "source": [
    "# Data Preprocessing was not possible because only dense arrays are supported\n",
    "linear_reg_pipeline = Pipeline(steps=[\n",
    "    (\"create_new_columns\", preprocessor_1),\n",
    "    (\"ColumnTransformer\", preprocessor_2),\n",
    "    (\"classifier\", LinearRegression(positive=True))\n",
    "])"
   ],
   "metadata": {
    "collapsed": false
   }
  },
  {
   "cell_type": "code",
   "execution_count": 20,
   "outputs": [
    {
     "ename": "TypeError",
     "evalue": "A sparse matrix was passed, but dense data is required. Use X.toarray() to convert to a dense numpy array.",
     "output_type": "error",
     "traceback": [
      "\u001B[0;31m---------------------------------------------------------------------------\u001B[0m",
      "\u001B[0;31mTypeError\u001B[0m                                 Traceback (most recent call last)",
      "Input \u001B[0;32mIn [20]\u001B[0m, in \u001B[0;36m<cell line: 1>\u001B[0;34m()\u001B[0m\n\u001B[0;32m----> 1\u001B[0m \u001B[43mlinear_reg_pipeline\u001B[49m\u001B[38;5;241;43m.\u001B[39;49m\u001B[43mfit\u001B[49m\u001B[43m(\u001B[49m\u001B[43mX_train\u001B[49m\u001B[43m,\u001B[49m\u001B[43m \u001B[49m\u001B[43my_train\u001B[49m\u001B[43m)\u001B[49m\n",
      "File \u001B[0;32m~/opt/anaconda3/lib/python3.9/site-packages/sklearn/pipeline.py:394\u001B[0m, in \u001B[0;36mPipeline.fit\u001B[0;34m(self, X, y, **fit_params)\u001B[0m\n\u001B[1;32m    392\u001B[0m     \u001B[38;5;28;01mif\u001B[39;00m \u001B[38;5;28mself\u001B[39m\u001B[38;5;241m.\u001B[39m_final_estimator \u001B[38;5;241m!=\u001B[39m \u001B[38;5;124m\"\u001B[39m\u001B[38;5;124mpassthrough\u001B[39m\u001B[38;5;124m\"\u001B[39m:\n\u001B[1;32m    393\u001B[0m         fit_params_last_step \u001B[38;5;241m=\u001B[39m fit_params_steps[\u001B[38;5;28mself\u001B[39m\u001B[38;5;241m.\u001B[39msteps[\u001B[38;5;241m-\u001B[39m\u001B[38;5;241m1\u001B[39m][\u001B[38;5;241m0\u001B[39m]]\n\u001B[0;32m--> 394\u001B[0m         \u001B[38;5;28;43mself\u001B[39;49m\u001B[38;5;241;43m.\u001B[39;49m\u001B[43m_final_estimator\u001B[49m\u001B[38;5;241;43m.\u001B[39;49m\u001B[43mfit\u001B[49m\u001B[43m(\u001B[49m\u001B[43mXt\u001B[49m\u001B[43m,\u001B[49m\u001B[43m \u001B[49m\u001B[43my\u001B[49m\u001B[43m,\u001B[49m\u001B[43m \u001B[49m\u001B[38;5;241;43m*\u001B[39;49m\u001B[38;5;241;43m*\u001B[39;49m\u001B[43mfit_params_last_step\u001B[49m\u001B[43m)\u001B[49m\n\u001B[1;32m    396\u001B[0m \u001B[38;5;28;01mreturn\u001B[39;00m \u001B[38;5;28mself\u001B[39m\n",
      "File \u001B[0;32m~/opt/anaconda3/lib/python3.9/site-packages/sklearn/linear_model/_base.py:662\u001B[0m, in \u001B[0;36mLinearRegression.fit\u001B[0;34m(self, X, y, sample_weight)\u001B[0m\n\u001B[1;32m    658\u001B[0m n_jobs_ \u001B[38;5;241m=\u001B[39m \u001B[38;5;28mself\u001B[39m\u001B[38;5;241m.\u001B[39mn_jobs\n\u001B[1;32m    660\u001B[0m accept_sparse \u001B[38;5;241m=\u001B[39m \u001B[38;5;28;01mFalse\u001B[39;00m \u001B[38;5;28;01mif\u001B[39;00m \u001B[38;5;28mself\u001B[39m\u001B[38;5;241m.\u001B[39mpositive \u001B[38;5;28;01melse\u001B[39;00m [\u001B[38;5;124m\"\u001B[39m\u001B[38;5;124mcsr\u001B[39m\u001B[38;5;124m\"\u001B[39m, \u001B[38;5;124m\"\u001B[39m\u001B[38;5;124mcsc\u001B[39m\u001B[38;5;124m\"\u001B[39m, \u001B[38;5;124m\"\u001B[39m\u001B[38;5;124mcoo\u001B[39m\u001B[38;5;124m\"\u001B[39m]\n\u001B[0;32m--> 662\u001B[0m X, y \u001B[38;5;241m=\u001B[39m \u001B[38;5;28;43mself\u001B[39;49m\u001B[38;5;241;43m.\u001B[39;49m\u001B[43m_validate_data\u001B[49m\u001B[43m(\u001B[49m\n\u001B[1;32m    663\u001B[0m \u001B[43m    \u001B[49m\u001B[43mX\u001B[49m\u001B[43m,\u001B[49m\u001B[43m \u001B[49m\u001B[43my\u001B[49m\u001B[43m,\u001B[49m\u001B[43m \u001B[49m\u001B[43maccept_sparse\u001B[49m\u001B[38;5;241;43m=\u001B[39;49m\u001B[43maccept_sparse\u001B[49m\u001B[43m,\u001B[49m\u001B[43m \u001B[49m\u001B[43my_numeric\u001B[49m\u001B[38;5;241;43m=\u001B[39;49m\u001B[38;5;28;43;01mTrue\u001B[39;49;00m\u001B[43m,\u001B[49m\u001B[43m \u001B[49m\u001B[43mmulti_output\u001B[49m\u001B[38;5;241;43m=\u001B[39;49m\u001B[38;5;28;43;01mTrue\u001B[39;49;00m\n\u001B[1;32m    664\u001B[0m \u001B[43m\u001B[49m\u001B[43m)\u001B[49m\n\u001B[1;32m    666\u001B[0m \u001B[38;5;28;01mif\u001B[39;00m sample_weight \u001B[38;5;129;01mis\u001B[39;00m \u001B[38;5;129;01mnot\u001B[39;00m \u001B[38;5;28;01mNone\u001B[39;00m:\n\u001B[1;32m    667\u001B[0m     sample_weight \u001B[38;5;241m=\u001B[39m _check_sample_weight(sample_weight, X, dtype\u001B[38;5;241m=\u001B[39mX\u001B[38;5;241m.\u001B[39mdtype)\n",
      "File \u001B[0;32m~/opt/anaconda3/lib/python3.9/site-packages/sklearn/base.py:581\u001B[0m, in \u001B[0;36mBaseEstimator._validate_data\u001B[0;34m(self, X, y, reset, validate_separately, **check_params)\u001B[0m\n\u001B[1;32m    579\u001B[0m         y \u001B[38;5;241m=\u001B[39m check_array(y, \u001B[38;5;241m*\u001B[39m\u001B[38;5;241m*\u001B[39mcheck_y_params)\n\u001B[1;32m    580\u001B[0m     \u001B[38;5;28;01melse\u001B[39;00m:\n\u001B[0;32m--> 581\u001B[0m         X, y \u001B[38;5;241m=\u001B[39m \u001B[43mcheck_X_y\u001B[49m\u001B[43m(\u001B[49m\u001B[43mX\u001B[49m\u001B[43m,\u001B[49m\u001B[43m \u001B[49m\u001B[43my\u001B[49m\u001B[43m,\u001B[49m\u001B[43m \u001B[49m\u001B[38;5;241;43m*\u001B[39;49m\u001B[38;5;241;43m*\u001B[39;49m\u001B[43mcheck_params\u001B[49m\u001B[43m)\u001B[49m\n\u001B[1;32m    582\u001B[0m     out \u001B[38;5;241m=\u001B[39m X, y\n\u001B[1;32m    584\u001B[0m \u001B[38;5;28;01mif\u001B[39;00m \u001B[38;5;129;01mnot\u001B[39;00m no_val_X \u001B[38;5;129;01mand\u001B[39;00m check_params\u001B[38;5;241m.\u001B[39mget(\u001B[38;5;124m\"\u001B[39m\u001B[38;5;124mensure_2d\u001B[39m\u001B[38;5;124m\"\u001B[39m, \u001B[38;5;28;01mTrue\u001B[39;00m):\n",
      "File \u001B[0;32m~/opt/anaconda3/lib/python3.9/site-packages/sklearn/utils/validation.py:964\u001B[0m, in \u001B[0;36mcheck_X_y\u001B[0;34m(X, y, accept_sparse, accept_large_sparse, dtype, order, copy, force_all_finite, ensure_2d, allow_nd, multi_output, ensure_min_samples, ensure_min_features, y_numeric, estimator)\u001B[0m\n\u001B[1;32m    961\u001B[0m \u001B[38;5;28;01mif\u001B[39;00m y \u001B[38;5;129;01mis\u001B[39;00m \u001B[38;5;28;01mNone\u001B[39;00m:\n\u001B[1;32m    962\u001B[0m     \u001B[38;5;28;01mraise\u001B[39;00m \u001B[38;5;167;01mValueError\u001B[39;00m(\u001B[38;5;124m\"\u001B[39m\u001B[38;5;124my cannot be None\u001B[39m\u001B[38;5;124m\"\u001B[39m)\n\u001B[0;32m--> 964\u001B[0m X \u001B[38;5;241m=\u001B[39m \u001B[43mcheck_array\u001B[49m\u001B[43m(\u001B[49m\n\u001B[1;32m    965\u001B[0m \u001B[43m    \u001B[49m\u001B[43mX\u001B[49m\u001B[43m,\u001B[49m\n\u001B[1;32m    966\u001B[0m \u001B[43m    \u001B[49m\u001B[43maccept_sparse\u001B[49m\u001B[38;5;241;43m=\u001B[39;49m\u001B[43maccept_sparse\u001B[49m\u001B[43m,\u001B[49m\n\u001B[1;32m    967\u001B[0m \u001B[43m    \u001B[49m\u001B[43maccept_large_sparse\u001B[49m\u001B[38;5;241;43m=\u001B[39;49m\u001B[43maccept_large_sparse\u001B[49m\u001B[43m,\u001B[49m\n\u001B[1;32m    968\u001B[0m \u001B[43m    \u001B[49m\u001B[43mdtype\u001B[49m\u001B[38;5;241;43m=\u001B[39;49m\u001B[43mdtype\u001B[49m\u001B[43m,\u001B[49m\n\u001B[1;32m    969\u001B[0m \u001B[43m    \u001B[49m\u001B[43morder\u001B[49m\u001B[38;5;241;43m=\u001B[39;49m\u001B[43morder\u001B[49m\u001B[43m,\u001B[49m\n\u001B[1;32m    970\u001B[0m \u001B[43m    \u001B[49m\u001B[43mcopy\u001B[49m\u001B[38;5;241;43m=\u001B[39;49m\u001B[43mcopy\u001B[49m\u001B[43m,\u001B[49m\n\u001B[1;32m    971\u001B[0m \u001B[43m    \u001B[49m\u001B[43mforce_all_finite\u001B[49m\u001B[38;5;241;43m=\u001B[39;49m\u001B[43mforce_all_finite\u001B[49m\u001B[43m,\u001B[49m\n\u001B[1;32m    972\u001B[0m \u001B[43m    \u001B[49m\u001B[43mensure_2d\u001B[49m\u001B[38;5;241;43m=\u001B[39;49m\u001B[43mensure_2d\u001B[49m\u001B[43m,\u001B[49m\n\u001B[1;32m    973\u001B[0m \u001B[43m    \u001B[49m\u001B[43mallow_nd\u001B[49m\u001B[38;5;241;43m=\u001B[39;49m\u001B[43mallow_nd\u001B[49m\u001B[43m,\u001B[49m\n\u001B[1;32m    974\u001B[0m \u001B[43m    \u001B[49m\u001B[43mensure_min_samples\u001B[49m\u001B[38;5;241;43m=\u001B[39;49m\u001B[43mensure_min_samples\u001B[49m\u001B[43m,\u001B[49m\n\u001B[1;32m    975\u001B[0m \u001B[43m    \u001B[49m\u001B[43mensure_min_features\u001B[49m\u001B[38;5;241;43m=\u001B[39;49m\u001B[43mensure_min_features\u001B[49m\u001B[43m,\u001B[49m\n\u001B[1;32m    976\u001B[0m \u001B[43m    \u001B[49m\u001B[43mestimator\u001B[49m\u001B[38;5;241;43m=\u001B[39;49m\u001B[43mestimator\u001B[49m\u001B[43m,\u001B[49m\n\u001B[1;32m    977\u001B[0m \u001B[43m\u001B[49m\u001B[43m)\u001B[49m\n\u001B[1;32m    979\u001B[0m y \u001B[38;5;241m=\u001B[39m _check_y(y, multi_output\u001B[38;5;241m=\u001B[39mmulti_output, y_numeric\u001B[38;5;241m=\u001B[39my_numeric)\n\u001B[1;32m    981\u001B[0m check_consistent_length(X, y)\n",
      "File \u001B[0;32m~/opt/anaconda3/lib/python3.9/site-packages/sklearn/utils/validation.py:720\u001B[0m, in \u001B[0;36mcheck_array\u001B[0;34m(array, accept_sparse, accept_large_sparse, dtype, order, copy, force_all_finite, ensure_2d, allow_nd, ensure_min_samples, ensure_min_features, estimator)\u001B[0m\n\u001B[1;32m    718\u001B[0m \u001B[38;5;28;01mif\u001B[39;00m sp\u001B[38;5;241m.\u001B[39missparse(array):\n\u001B[1;32m    719\u001B[0m     _ensure_no_complex_data(array)\n\u001B[0;32m--> 720\u001B[0m     array \u001B[38;5;241m=\u001B[39m \u001B[43m_ensure_sparse_format\u001B[49m\u001B[43m(\u001B[49m\n\u001B[1;32m    721\u001B[0m \u001B[43m        \u001B[49m\u001B[43marray\u001B[49m\u001B[43m,\u001B[49m\n\u001B[1;32m    722\u001B[0m \u001B[43m        \u001B[49m\u001B[43maccept_sparse\u001B[49m\u001B[38;5;241;43m=\u001B[39;49m\u001B[43maccept_sparse\u001B[49m\u001B[43m,\u001B[49m\n\u001B[1;32m    723\u001B[0m \u001B[43m        \u001B[49m\u001B[43mdtype\u001B[49m\u001B[38;5;241;43m=\u001B[39;49m\u001B[43mdtype\u001B[49m\u001B[43m,\u001B[49m\n\u001B[1;32m    724\u001B[0m \u001B[43m        \u001B[49m\u001B[43mcopy\u001B[49m\u001B[38;5;241;43m=\u001B[39;49m\u001B[43mcopy\u001B[49m\u001B[43m,\u001B[49m\n\u001B[1;32m    725\u001B[0m \u001B[43m        \u001B[49m\u001B[43mforce_all_finite\u001B[49m\u001B[38;5;241;43m=\u001B[39;49m\u001B[43mforce_all_finite\u001B[49m\u001B[43m,\u001B[49m\n\u001B[1;32m    726\u001B[0m \u001B[43m        \u001B[49m\u001B[43maccept_large_sparse\u001B[49m\u001B[38;5;241;43m=\u001B[39;49m\u001B[43maccept_large_sparse\u001B[49m\u001B[43m,\u001B[49m\n\u001B[1;32m    727\u001B[0m \u001B[43m    \u001B[49m\u001B[43m)\u001B[49m\n\u001B[1;32m    728\u001B[0m \u001B[38;5;28;01melse\u001B[39;00m:\n\u001B[1;32m    729\u001B[0m     \u001B[38;5;66;03m# If np.array(..) gives ComplexWarning, then we convert the warning\u001B[39;00m\n\u001B[1;32m    730\u001B[0m     \u001B[38;5;66;03m# to an error. This is needed because specifying a non complex\u001B[39;00m\n\u001B[1;32m    731\u001B[0m     \u001B[38;5;66;03m# dtype to the function converts complex to real dtype,\u001B[39;00m\n\u001B[1;32m    732\u001B[0m     \u001B[38;5;66;03m# thereby passing the test made in the lines following the scope\u001B[39;00m\n\u001B[1;32m    733\u001B[0m     \u001B[38;5;66;03m# of warnings context manager.\u001B[39;00m\n\u001B[1;32m    734\u001B[0m     \u001B[38;5;28;01mwith\u001B[39;00m warnings\u001B[38;5;241m.\u001B[39mcatch_warnings():\n",
      "File \u001B[0;32m~/opt/anaconda3/lib/python3.9/site-packages/sklearn/utils/validation.py:440\u001B[0m, in \u001B[0;36m_ensure_sparse_format\u001B[0;34m(spmatrix, accept_sparse, dtype, copy, force_all_finite, accept_large_sparse)\u001B[0m\n\u001B[1;32m    437\u001B[0m _check_large_sparse(spmatrix, accept_large_sparse)\n\u001B[1;32m    439\u001B[0m \u001B[38;5;28;01mif\u001B[39;00m accept_sparse \u001B[38;5;129;01mis\u001B[39;00m \u001B[38;5;28;01mFalse\u001B[39;00m:\n\u001B[0;32m--> 440\u001B[0m     \u001B[38;5;28;01mraise\u001B[39;00m \u001B[38;5;167;01mTypeError\u001B[39;00m(\n\u001B[1;32m    441\u001B[0m         \u001B[38;5;124m\"\u001B[39m\u001B[38;5;124mA sparse matrix was passed, but dense \u001B[39m\u001B[38;5;124m\"\u001B[39m\n\u001B[1;32m    442\u001B[0m         \u001B[38;5;124m\"\u001B[39m\u001B[38;5;124mdata is required. Use X.toarray() to \u001B[39m\u001B[38;5;124m\"\u001B[39m\n\u001B[1;32m    443\u001B[0m         \u001B[38;5;124m\"\u001B[39m\u001B[38;5;124mconvert to a dense numpy array.\u001B[39m\u001B[38;5;124m\"\u001B[39m\n\u001B[1;32m    444\u001B[0m     )\n\u001B[1;32m    445\u001B[0m \u001B[38;5;28;01melif\u001B[39;00m \u001B[38;5;28misinstance\u001B[39m(accept_sparse, (\u001B[38;5;28mlist\u001B[39m, \u001B[38;5;28mtuple\u001B[39m)):\n\u001B[1;32m    446\u001B[0m     \u001B[38;5;28;01mif\u001B[39;00m \u001B[38;5;28mlen\u001B[39m(accept_sparse) \u001B[38;5;241m==\u001B[39m \u001B[38;5;241m0\u001B[39m:\n",
      "\u001B[0;31mTypeError\u001B[0m: A sparse matrix was passed, but dense data is required. Use X.toarray() to convert to a dense numpy array."
     ]
    }
   ],
   "source": [
    "linear_reg_pipeline.fit(X_train, y_train)"
   ],
   "metadata": {
    "collapsed": false
   }
  },
  {
   "cell_type": "code",
   "execution_count": null,
   "outputs": [],
   "source": [
    "lr = LinearRegression(positive=True).fit(X_train, y_train)"
   ],
   "metadata": {
    "collapsed": false
   }
  },
  {
   "cell_type": "code",
   "execution_count": null,
   "outputs": [],
   "source": [
    "y_predict = lr.predict(X_test)"
   ],
   "metadata": {
    "collapsed": false
   }
  },
  {
   "cell_type": "code",
   "execution_count": null,
   "outputs": [],
   "source": [
    "print(f\"The R2 score of the train data after adding the argument 'positive=True' to the 'LinearRegression()' {round(r2_score(y_predict, y_test), 2)}\")"
   ],
   "metadata": {
    "collapsed": false
   }
  }
 ],
 "metadata": {
  "kernelspec": {
   "display_name": "Python 3",
   "language": "python",
   "name": "python3"
  },
  "language_info": {
   "codemirror_mode": {
    "name": "ipython",
    "version": 2
   },
   "file_extension": ".py",
   "mimetype": "text/x-python",
   "name": "python",
   "nbconvert_exporter": "python",
   "pygments_lexer": "ipython2",
   "version": "2.7.6"
  }
 },
 "nbformat": 4,
 "nbformat_minor": 0
}
