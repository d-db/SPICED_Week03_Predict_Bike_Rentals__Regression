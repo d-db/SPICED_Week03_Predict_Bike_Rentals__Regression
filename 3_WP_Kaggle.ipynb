{
 "cells": [
  {
   "cell_type": "markdown",
   "source": [
    "## Introduction to this notebook"
   ],
   "metadata": {
    "collapsed": false
   }
  },
  {
   "cell_type": "markdown",
   "source": [
    "Through this notebook I want to generate the first submission to Kaggle for this challenge"
   ],
   "metadata": {
    "collapsed": false
   }
  },
  {
   "cell_type": "code",
   "execution_count": 1,
   "outputs": [],
   "source": [
    "import pandas as pd\n",
    "import numpy as np\n",
    "\n",
    "# models\n",
    "from sklearn.linear_model import LinearRegression\n",
    "\n",
    "# new utils\n",
    "from sklearn.preprocessing import OneHotEncoder, KBinsDiscretizer\n",
    "from sklearn.preprocessing import RobustScaler, StandardScaler, MinMaxScaler\n",
    "from sklearn.preprocessing import FunctionTransformer\n",
    "from sklearn.compose import ColumnTransformer\n",
    "from sklearn.pipeline import Pipeline\n",
    "from sklearn import set_config\n",
    "from sklearn.metrics import r2_score\n",
    "\n",
    "# to visualize the column transformer and pipeline\n",
    "set_config(display='diagram')"
   ],
   "metadata": {
    "collapsed": false
   }
  },
  {
   "cell_type": "code",
   "execution_count": 2,
   "outputs": [],
   "source": [
    "df = pd.read_csv(\"./data/bike-sharing-demand/train.csv\", parse_dates=True, index_col=0)\n",
    "X_test = pd.read_csv(\"./data/bike-sharing-demand/test.csv\", parse_dates=True, index_col=0)"
   ],
   "metadata": {
    "collapsed": false
   }
  },
  {
   "cell_type": "code",
   "execution_count": 3,
   "outputs": [],
   "source": [
    "# Define a function to extract year, month and hour\n",
    "def extract_year_month_hour(df):\n",
    "    df = df.copy()\n",
    "    df[\"year\"] = df.index.year\n",
    "    df[\"month\"] = df.index.month\n",
    "    df[\"hour\"] = df.index.hour\n",
    "    return df"
   ],
   "metadata": {
    "collapsed": false
   }
  },
  {
   "cell_type": "code",
   "execution_count": 4,
   "outputs": [],
   "source": [
    "preprocessor_1 = FunctionTransformer(extract_year_month_hour)"
   ],
   "metadata": {
    "collapsed": false
   }
  },
  {
   "cell_type": "code",
   "execution_count": 5,
   "outputs": [],
   "source": [
    "numeric_features = [\"atemp\", \"humidity\", \"windspeed\"]\n",
    "numeric_transformer = StandardScaler()\n",
    "\n",
    "categorical_features = [\"season\", \"holiday\", \"workingday\", \"weather\", \"year\", \"month\", \"hour\"]\n",
    "categorical_transformer = OneHotEncoder()"
   ],
   "metadata": {
    "collapsed": false
   }
  },
  {
   "cell_type": "code",
   "execution_count": 6,
   "outputs": [],
   "source": [
    "preprocessor_2 = ColumnTransformer(\n",
    "    [\n",
    "        (\"num\", numeric_transformer, numeric_features),\n",
    "        (\"cat\", categorical_transformer, categorical_features)],\n",
    "    remainder = 'passthrough'\n",
    ")"
   ],
   "metadata": {
    "collapsed": false
   }
  },
  {
   "cell_type": "code",
   "execution_count": 7,
   "outputs": [],
   "source": [
    "linear_reg_pipeline = Pipeline(steps=[\n",
    "    (\"create_new_columns\", preprocessor_1),\n",
    "    (\"ColumnTransformer\", preprocessor_2),\n",
    "    (\"classifier\", LinearRegression())\n",
    "])"
   ],
   "metadata": {
    "collapsed": false
   }
  },
  {
   "cell_type": "markdown",
   "source": [
    "## Train/Test Split"
   ],
   "metadata": {
    "collapsed": false
   }
  },
  {
   "cell_type": "code",
   "execution_count": 8,
   "outputs": [],
   "source": [
    "y_train = df[\"count\"]\n",
    "X_train = df.loc[:, df.columns != \"count\"].drop([\"casual\", \"registered\"], axis=1)"
   ],
   "metadata": {
    "collapsed": false
   }
  },
  {
   "cell_type": "code",
   "execution_count": 14,
   "outputs": [
    {
     "data": {
      "text/plain": "                     season  holiday  workingday  weather  temp   atemp  \\\ndatetime                                                                  \n2011-01-01 00:00:00       1        0           0        1  9.84  14.395   \n2011-01-01 01:00:00       1        0           0        1  9.02  13.635   \n2011-01-01 02:00:00       1        0           0        1  9.02  13.635   \n2011-01-01 03:00:00       1        0           0        1  9.84  14.395   \n2011-01-01 04:00:00       1        0           0        1  9.84  14.395   \n\n                     humidity  windspeed  \ndatetime                                  \n2011-01-01 00:00:00        81        0.0  \n2011-01-01 01:00:00        80        0.0  \n2011-01-01 02:00:00        80        0.0  \n2011-01-01 03:00:00        75        0.0  \n2011-01-01 04:00:00        75        0.0  ",
      "text/html": "<div>\n<style scoped>\n    .dataframe tbody tr th:only-of-type {\n        vertical-align: middle;\n    }\n\n    .dataframe tbody tr th {\n        vertical-align: top;\n    }\n\n    .dataframe thead th {\n        text-align: right;\n    }\n</style>\n<table border=\"1\" class=\"dataframe\">\n  <thead>\n    <tr style=\"text-align: right;\">\n      <th></th>\n      <th>season</th>\n      <th>holiday</th>\n      <th>workingday</th>\n      <th>weather</th>\n      <th>temp</th>\n      <th>atemp</th>\n      <th>humidity</th>\n      <th>windspeed</th>\n    </tr>\n    <tr>\n      <th>datetime</th>\n      <th></th>\n      <th></th>\n      <th></th>\n      <th></th>\n      <th></th>\n      <th></th>\n      <th></th>\n      <th></th>\n    </tr>\n  </thead>\n  <tbody>\n    <tr>\n      <th>2011-01-01 00:00:00</th>\n      <td>1</td>\n      <td>0</td>\n      <td>0</td>\n      <td>1</td>\n      <td>9.84</td>\n      <td>14.395</td>\n      <td>81</td>\n      <td>0.0</td>\n    </tr>\n    <tr>\n      <th>2011-01-01 01:00:00</th>\n      <td>1</td>\n      <td>0</td>\n      <td>0</td>\n      <td>1</td>\n      <td>9.02</td>\n      <td>13.635</td>\n      <td>80</td>\n      <td>0.0</td>\n    </tr>\n    <tr>\n      <th>2011-01-01 02:00:00</th>\n      <td>1</td>\n      <td>0</td>\n      <td>0</td>\n      <td>1</td>\n      <td>9.02</td>\n      <td>13.635</td>\n      <td>80</td>\n      <td>0.0</td>\n    </tr>\n    <tr>\n      <th>2011-01-01 03:00:00</th>\n      <td>1</td>\n      <td>0</td>\n      <td>0</td>\n      <td>1</td>\n      <td>9.84</td>\n      <td>14.395</td>\n      <td>75</td>\n      <td>0.0</td>\n    </tr>\n    <tr>\n      <th>2011-01-01 04:00:00</th>\n      <td>1</td>\n      <td>0</td>\n      <td>0</td>\n      <td>1</td>\n      <td>9.84</td>\n      <td>14.395</td>\n      <td>75</td>\n      <td>0.0</td>\n    </tr>\n  </tbody>\n</table>\n</div>"
     },
     "execution_count": 14,
     "metadata": {},
     "output_type": "execute_result"
    }
   ],
   "source": [
    "X_train.head()"
   ],
   "metadata": {
    "collapsed": false
   }
  },
  {
   "cell_type": "code",
   "execution_count": 15,
   "outputs": [
    {
     "data": {
      "text/plain": "6493"
     },
     "execution_count": 15,
     "metadata": {},
     "output_type": "execute_result"
    }
   ],
   "source": [
    "len(X_test)"
   ],
   "metadata": {
    "collapsed": false
   }
  },
  {
   "cell_type": "code",
   "execution_count": 10,
   "outputs": [
    {
     "data": {
      "text/plain": "Pipeline(steps=[('create_new_columns',\n                 FunctionTransformer(func=<function extract_year_month_hour at 0x7fa721c79790>)),\n                ('ColumnTransformer',\n                 ColumnTransformer(remainder='passthrough',\n                                   transformers=[('num', StandardScaler(),\n                                                  ['atemp', 'humidity',\n                                                   'windspeed']),\n                                                 ('cat', OneHotEncoder(),\n                                                  ['season', 'holiday',\n                                                   'workingday', 'weather',\n                                                   'year', 'month',\n                                                   'hour'])])),\n                ('classifier', LinearRegression())])",
      "text/html": "<style>#sk-940e9d56-6b62-48e1-804c-3c781fd9b72d {color: black;background-color: white;}#sk-940e9d56-6b62-48e1-804c-3c781fd9b72d pre{padding: 0;}#sk-940e9d56-6b62-48e1-804c-3c781fd9b72d div.sk-toggleable {background-color: white;}#sk-940e9d56-6b62-48e1-804c-3c781fd9b72d label.sk-toggleable__label {cursor: pointer;display: block;width: 100%;margin-bottom: 0;padding: 0.3em;box-sizing: border-box;text-align: center;}#sk-940e9d56-6b62-48e1-804c-3c781fd9b72d label.sk-toggleable__label-arrow:before {content: \"▸\";float: left;margin-right: 0.25em;color: #696969;}#sk-940e9d56-6b62-48e1-804c-3c781fd9b72d label.sk-toggleable__label-arrow:hover:before {color: black;}#sk-940e9d56-6b62-48e1-804c-3c781fd9b72d div.sk-estimator:hover label.sk-toggleable__label-arrow:before {color: black;}#sk-940e9d56-6b62-48e1-804c-3c781fd9b72d div.sk-toggleable__content {max-height: 0;max-width: 0;overflow: hidden;text-align: left;background-color: #f0f8ff;}#sk-940e9d56-6b62-48e1-804c-3c781fd9b72d div.sk-toggleable__content pre {margin: 0.2em;color: black;border-radius: 0.25em;background-color: #f0f8ff;}#sk-940e9d56-6b62-48e1-804c-3c781fd9b72d input.sk-toggleable__control:checked~div.sk-toggleable__content {max-height: 200px;max-width: 100%;overflow: auto;}#sk-940e9d56-6b62-48e1-804c-3c781fd9b72d input.sk-toggleable__control:checked~label.sk-toggleable__label-arrow:before {content: \"▾\";}#sk-940e9d56-6b62-48e1-804c-3c781fd9b72d div.sk-estimator input.sk-toggleable__control:checked~label.sk-toggleable__label {background-color: #d4ebff;}#sk-940e9d56-6b62-48e1-804c-3c781fd9b72d div.sk-label input.sk-toggleable__control:checked~label.sk-toggleable__label {background-color: #d4ebff;}#sk-940e9d56-6b62-48e1-804c-3c781fd9b72d input.sk-hidden--visually {border: 0;clip: rect(1px 1px 1px 1px);clip: rect(1px, 1px, 1px, 1px);height: 1px;margin: -1px;overflow: hidden;padding: 0;position: absolute;width: 1px;}#sk-940e9d56-6b62-48e1-804c-3c781fd9b72d div.sk-estimator {font-family: monospace;background-color: #f0f8ff;border: 1px dotted black;border-radius: 0.25em;box-sizing: border-box;margin-bottom: 0.5em;}#sk-940e9d56-6b62-48e1-804c-3c781fd9b72d div.sk-estimator:hover {background-color: #d4ebff;}#sk-940e9d56-6b62-48e1-804c-3c781fd9b72d div.sk-parallel-item::after {content: \"\";width: 100%;border-bottom: 1px solid gray;flex-grow: 1;}#sk-940e9d56-6b62-48e1-804c-3c781fd9b72d div.sk-label:hover label.sk-toggleable__label {background-color: #d4ebff;}#sk-940e9d56-6b62-48e1-804c-3c781fd9b72d div.sk-serial::before {content: \"\";position: absolute;border-left: 1px solid gray;box-sizing: border-box;top: 2em;bottom: 0;left: 50%;}#sk-940e9d56-6b62-48e1-804c-3c781fd9b72d div.sk-serial {display: flex;flex-direction: column;align-items: center;background-color: white;padding-right: 0.2em;padding-left: 0.2em;}#sk-940e9d56-6b62-48e1-804c-3c781fd9b72d div.sk-item {z-index: 1;}#sk-940e9d56-6b62-48e1-804c-3c781fd9b72d div.sk-parallel {display: flex;align-items: stretch;justify-content: center;background-color: white;}#sk-940e9d56-6b62-48e1-804c-3c781fd9b72d div.sk-parallel::before {content: \"\";position: absolute;border-left: 1px solid gray;box-sizing: border-box;top: 2em;bottom: 0;left: 50%;}#sk-940e9d56-6b62-48e1-804c-3c781fd9b72d div.sk-parallel-item {display: flex;flex-direction: column;position: relative;background-color: white;}#sk-940e9d56-6b62-48e1-804c-3c781fd9b72d div.sk-parallel-item:first-child::after {align-self: flex-end;width: 50%;}#sk-940e9d56-6b62-48e1-804c-3c781fd9b72d div.sk-parallel-item:last-child::after {align-self: flex-start;width: 50%;}#sk-940e9d56-6b62-48e1-804c-3c781fd9b72d div.sk-parallel-item:only-child::after {width: 0;}#sk-940e9d56-6b62-48e1-804c-3c781fd9b72d div.sk-dashed-wrapped {border: 1px dashed gray;margin: 0 0.4em 0.5em 0.4em;box-sizing: border-box;padding-bottom: 0.4em;background-color: white;position: relative;}#sk-940e9d56-6b62-48e1-804c-3c781fd9b72d div.sk-label label {font-family: monospace;font-weight: bold;background-color: white;display: inline-block;line-height: 1.2em;}#sk-940e9d56-6b62-48e1-804c-3c781fd9b72d div.sk-label-container {position: relative;z-index: 2;text-align: center;}#sk-940e9d56-6b62-48e1-804c-3c781fd9b72d div.sk-container {/* jupyter's `normalize.less` sets `[hidden] { display: none; }` but bootstrap.min.css set `[hidden] { display: none !important; }` so we also need the `!important` here to be able to override the default hidden behavior on the sphinx rendered scikit-learn.org. See: https://github.com/scikit-learn/scikit-learn/issues/21755 */display: inline-block !important;position: relative;}#sk-940e9d56-6b62-48e1-804c-3c781fd9b72d div.sk-text-repr-fallback {display: none;}</style><div id=\"sk-940e9d56-6b62-48e1-804c-3c781fd9b72d\" class=\"sk-top-container\"><div class=\"sk-text-repr-fallback\"><pre>Pipeline(steps=[(&#x27;create_new_columns&#x27;,\n                 FunctionTransformer(func=&lt;function extract_year_month_hour at 0x7fa721c79790&gt;)),\n                (&#x27;ColumnTransformer&#x27;,\n                 ColumnTransformer(remainder=&#x27;passthrough&#x27;,\n                                   transformers=[(&#x27;num&#x27;, StandardScaler(),\n                                                  [&#x27;atemp&#x27;, &#x27;humidity&#x27;,\n                                                   &#x27;windspeed&#x27;]),\n                                                 (&#x27;cat&#x27;, OneHotEncoder(),\n                                                  [&#x27;season&#x27;, &#x27;holiday&#x27;,\n                                                   &#x27;workingday&#x27;, &#x27;weather&#x27;,\n                                                   &#x27;year&#x27;, &#x27;month&#x27;,\n                                                   &#x27;hour&#x27;])])),\n                (&#x27;classifier&#x27;, LinearRegression())])</pre><b>Please rerun this cell to show the HTML repr or trust the notebook.</b></div><div class=\"sk-container\" hidden><div class=\"sk-item sk-dashed-wrapped\"><div class=\"sk-label-container\"><div class=\"sk-label sk-toggleable\"><input class=\"sk-toggleable__control sk-hidden--visually\" id=\"f2c10cb2-91b9-4b74-8fec-874a757746ec\" type=\"checkbox\" ><label for=\"f2c10cb2-91b9-4b74-8fec-874a757746ec\" class=\"sk-toggleable__label sk-toggleable__label-arrow\">Pipeline</label><div class=\"sk-toggleable__content\"><pre>Pipeline(steps=[(&#x27;create_new_columns&#x27;,\n                 FunctionTransformer(func=&lt;function extract_year_month_hour at 0x7fa721c79790&gt;)),\n                (&#x27;ColumnTransformer&#x27;,\n                 ColumnTransformer(remainder=&#x27;passthrough&#x27;,\n                                   transformers=[(&#x27;num&#x27;, StandardScaler(),\n                                                  [&#x27;atemp&#x27;, &#x27;humidity&#x27;,\n                                                   &#x27;windspeed&#x27;]),\n                                                 (&#x27;cat&#x27;, OneHotEncoder(),\n                                                  [&#x27;season&#x27;, &#x27;holiday&#x27;,\n                                                   &#x27;workingday&#x27;, &#x27;weather&#x27;,\n                                                   &#x27;year&#x27;, &#x27;month&#x27;,\n                                                   &#x27;hour&#x27;])])),\n                (&#x27;classifier&#x27;, LinearRegression())])</pre></div></div></div><div class=\"sk-serial\"><div class=\"sk-item\"><div class=\"sk-estimator sk-toggleable\"><input class=\"sk-toggleable__control sk-hidden--visually\" id=\"a3c99ddc-84f3-4679-a71d-4ec5ab9b7b09\" type=\"checkbox\" ><label for=\"a3c99ddc-84f3-4679-a71d-4ec5ab9b7b09\" class=\"sk-toggleable__label sk-toggleable__label-arrow\">FunctionTransformer</label><div class=\"sk-toggleable__content\"><pre>FunctionTransformer(func=&lt;function extract_year_month_hour at 0x7fa721c79790&gt;)</pre></div></div></div><div class=\"sk-item sk-dashed-wrapped\"><div class=\"sk-label-container\"><div class=\"sk-label sk-toggleable\"><input class=\"sk-toggleable__control sk-hidden--visually\" id=\"da0b1907-ddaf-481c-a188-bd3f244f84e2\" type=\"checkbox\" ><label for=\"da0b1907-ddaf-481c-a188-bd3f244f84e2\" class=\"sk-toggleable__label sk-toggleable__label-arrow\">ColumnTransformer: ColumnTransformer</label><div class=\"sk-toggleable__content\"><pre>ColumnTransformer(remainder=&#x27;passthrough&#x27;,\n                  transformers=[(&#x27;num&#x27;, StandardScaler(),\n                                 [&#x27;atemp&#x27;, &#x27;humidity&#x27;, &#x27;windspeed&#x27;]),\n                                (&#x27;cat&#x27;, OneHotEncoder(),\n                                 [&#x27;season&#x27;, &#x27;holiday&#x27;, &#x27;workingday&#x27;, &#x27;weather&#x27;,\n                                  &#x27;year&#x27;, &#x27;month&#x27;, &#x27;hour&#x27;])])</pre></div></div></div><div class=\"sk-parallel\"><div class=\"sk-parallel-item\"><div class=\"sk-item\"><div class=\"sk-label-container\"><div class=\"sk-label sk-toggleable\"><input class=\"sk-toggleable__control sk-hidden--visually\" id=\"457f622d-ffec-4607-809b-74d1a8ebf046\" type=\"checkbox\" ><label for=\"457f622d-ffec-4607-809b-74d1a8ebf046\" class=\"sk-toggleable__label sk-toggleable__label-arrow\">num</label><div class=\"sk-toggleable__content\"><pre>[&#x27;atemp&#x27;, &#x27;humidity&#x27;, &#x27;windspeed&#x27;]</pre></div></div></div><div class=\"sk-serial\"><div class=\"sk-item\"><div class=\"sk-estimator sk-toggleable\"><input class=\"sk-toggleable__control sk-hidden--visually\" id=\"b7249b5c-6fe8-4f1f-ac68-9bbfb1ad78bb\" type=\"checkbox\" ><label for=\"b7249b5c-6fe8-4f1f-ac68-9bbfb1ad78bb\" class=\"sk-toggleable__label sk-toggleable__label-arrow\">StandardScaler</label><div class=\"sk-toggleable__content\"><pre>StandardScaler()</pre></div></div></div></div></div></div><div class=\"sk-parallel-item\"><div class=\"sk-item\"><div class=\"sk-label-container\"><div class=\"sk-label sk-toggleable\"><input class=\"sk-toggleable__control sk-hidden--visually\" id=\"6fa1bd76-0748-40bd-beca-acaca05d1933\" type=\"checkbox\" ><label for=\"6fa1bd76-0748-40bd-beca-acaca05d1933\" class=\"sk-toggleable__label sk-toggleable__label-arrow\">cat</label><div class=\"sk-toggleable__content\"><pre>[&#x27;season&#x27;, &#x27;holiday&#x27;, &#x27;workingday&#x27;, &#x27;weather&#x27;, &#x27;year&#x27;, &#x27;month&#x27;, &#x27;hour&#x27;]</pre></div></div></div><div class=\"sk-serial\"><div class=\"sk-item\"><div class=\"sk-estimator sk-toggleable\"><input class=\"sk-toggleable__control sk-hidden--visually\" id=\"05771f31-95f5-45e5-8a5e-bca032a0ad35\" type=\"checkbox\" ><label for=\"05771f31-95f5-45e5-8a5e-bca032a0ad35\" class=\"sk-toggleable__label sk-toggleable__label-arrow\">OneHotEncoder</label><div class=\"sk-toggleable__content\"><pre>OneHotEncoder()</pre></div></div></div></div></div></div><div class=\"sk-parallel-item\"><div class=\"sk-item\"><div class=\"sk-label-container\"><div class=\"sk-label sk-toggleable\"><input class=\"sk-toggleable__control sk-hidden--visually\" id=\"78a13cd4-7e40-428d-9923-3aa0ab71c511\" type=\"checkbox\" ><label for=\"78a13cd4-7e40-428d-9923-3aa0ab71c511\" class=\"sk-toggleable__label sk-toggleable__label-arrow\">remainder</label><div class=\"sk-toggleable__content\"><pre>[&#x27;temp&#x27;]</pre></div></div></div><div class=\"sk-serial\"><div class=\"sk-item\"><div class=\"sk-estimator sk-toggleable\"><input class=\"sk-toggleable__control sk-hidden--visually\" id=\"14898844-d326-495e-80d3-0b1dcdda582f\" type=\"checkbox\" ><label for=\"14898844-d326-495e-80d3-0b1dcdda582f\" class=\"sk-toggleable__label sk-toggleable__label-arrow\">passthrough</label><div class=\"sk-toggleable__content\"><pre>passthrough</pre></div></div></div></div></div></div></div></div><div class=\"sk-item\"><div class=\"sk-estimator sk-toggleable\"><input class=\"sk-toggleable__control sk-hidden--visually\" id=\"8f235159-b499-4a6b-a699-1aa78a3c6ac3\" type=\"checkbox\" ><label for=\"8f235159-b499-4a6b-a699-1aa78a3c6ac3\" class=\"sk-toggleable__label sk-toggleable__label-arrow\">LinearRegression</label><div class=\"sk-toggleable__content\"><pre>LinearRegression()</pre></div></div></div></div></div></div></div>"
     },
     "execution_count": 10,
     "metadata": {},
     "output_type": "execute_result"
    }
   ],
   "source": [
    "linear_reg_pipeline.fit(X_train, y_train)"
   ],
   "metadata": {
    "collapsed": false
   }
  },
  {
   "cell_type": "code",
   "execution_count": 42,
   "outputs": [],
   "source": [
    "y_pred_test = linear_reg_pipeline.predict(X_test)"
   ],
   "metadata": {
    "collapsed": false
   }
  },
  {
   "cell_type": "code",
   "execution_count": 43,
   "outputs": [
    {
     "name": "stdout",
     "output_type": "stream",
     "text": [
      "0.1% of the predicted values are negative. In order to fix this different approaches can be chosen.\n"
     ]
    }
   ],
   "source": [
    "print(f\"{round(len(y_pred_test[y_pred_test < 0])/len(y_pred_test), 2)}% of the predicted values are negative. In order to fix this different approaches can be chosen.\")"
   ],
   "metadata": {
    "collapsed": false
   }
  },
  {
   "cell_type": "markdown",
   "source": [
    "### 1. Set all negative Values to 1"
   ],
   "metadata": {
    "collapsed": false
   }
  },
  {
   "cell_type": "code",
   "execution_count": 44,
   "outputs": [
    {
     "data": {
      "text/plain": "0"
     },
     "execution_count": 44,
     "metadata": {},
     "output_type": "execute_result"
    }
   ],
   "source": [
    "y_pred_test[y_pred_test < 0] = 1"
   ],
   "metadata": {
    "collapsed": false
   }
  },
  {
   "cell_type": "markdown",
   "source": [
    "![title](img/0.png)"
   ],
   "metadata": {
    "collapsed": false
   }
  },
  {
   "cell_type": "markdown",
   "source": [
    "### 2. Transform numpy-array to absolute values"
   ],
   "metadata": {
    "collapsed": false
   }
  },
  {
   "cell_type": "code",
   "execution_count": null,
   "outputs": [],
   "source": [
    "y_pred_test = linear_reg_pipeline.predict(X_test)\n",
    "len(y_pred_test[y_pred_test < 0])"
   ],
   "metadata": {
    "collapsed": false
   }
  },
  {
   "cell_type": "code",
   "execution_count": 32,
   "outputs": [
    {
     "data": {
      "text/plain": "array([ 82,  80,  92, ..., 146, 116,  69])"
     },
     "execution_count": 32,
     "metadata": {},
     "output_type": "execute_result"
    }
   ],
   "source": [
    "y_pred_test = np.absolute(y_pred_test).astype(\"int\")\n",
    "y_pred_test"
   ],
   "metadata": {
    "collapsed": false
   }
  },
  {
   "cell_type": "markdown",
   "source": [
    "![title](img/abs.png)"
   ],
   "metadata": {
    "collapsed": false
   }
  },
  {
   "cell_type": "markdown",
   "source": [
    "### 3. Using the log_values to train the model and reverse the predictions"
   ],
   "metadata": {
    "collapsed": false
   }
  },
  {
   "cell_type": "code",
   "execution_count": null,
   "outputs": [],
   "source": [
    "# Fit the model with the log of y_train\n",
    "linear_reg_pipeline.fit(X_train, np.log1p(y_train))"
   ],
   "metadata": {
    "collapsed": false
   }
  },
  {
   "cell_type": "code",
   "execution_count": null,
   "outputs": [],
   "source": [
    "# Calculate y_predict for X_test, inverse the log-function and transform it to int\n",
    "y_pred_test = np.expm1(linear_reg_pipeline.predict(X_test)).astype(\"int\")"
   ],
   "metadata": {
    "collapsed": false
   }
  },
  {
   "cell_type": "markdown",
   "source": [
    "![title](img/log.png)"
   ],
   "metadata": {
    "collapsed": false
   }
  },
  {
   "cell_type": "markdown",
   "source": [
    "## Create a submission to Kaggle"
   ],
   "metadata": {
    "collapsed": false
   }
  },
  {
   "cell_type": "code",
   "execution_count": 33,
   "outputs": [
    {
     "data": {
      "text/plain": "                datetime  count\n0    2011-01-20 00:00:00     82\n1    2011-01-20 01:00:00     80\n2    2011-01-20 02:00:00     92\n3    2011-01-20 03:00:00    111\n4    2011-01-20 04:00:00    111\n...                  ...    ...\n6488 2012-12-31 19:00:00    268\n6489 2012-12-31 20:00:00    186\n6490 2012-12-31 21:00:00    146\n6491 2012-12-31 22:00:00    116\n6492 2012-12-31 23:00:00     69\n\n[6493 rows x 2 columns]",
      "text/html": "<div>\n<style scoped>\n    .dataframe tbody tr th:only-of-type {\n        vertical-align: middle;\n    }\n\n    .dataframe tbody tr th {\n        vertical-align: top;\n    }\n\n    .dataframe thead th {\n        text-align: right;\n    }\n</style>\n<table border=\"1\" class=\"dataframe\">\n  <thead>\n    <tr style=\"text-align: right;\">\n      <th></th>\n      <th>datetime</th>\n      <th>count</th>\n    </tr>\n  </thead>\n  <tbody>\n    <tr>\n      <th>0</th>\n      <td>2011-01-20 00:00:00</td>\n      <td>82</td>\n    </tr>\n    <tr>\n      <th>1</th>\n      <td>2011-01-20 01:00:00</td>\n      <td>80</td>\n    </tr>\n    <tr>\n      <th>2</th>\n      <td>2011-01-20 02:00:00</td>\n      <td>92</td>\n    </tr>\n    <tr>\n      <th>3</th>\n      <td>2011-01-20 03:00:00</td>\n      <td>111</td>\n    </tr>\n    <tr>\n      <th>4</th>\n      <td>2011-01-20 04:00:00</td>\n      <td>111</td>\n    </tr>\n    <tr>\n      <th>...</th>\n      <td>...</td>\n      <td>...</td>\n    </tr>\n    <tr>\n      <th>6488</th>\n      <td>2012-12-31 19:00:00</td>\n      <td>268</td>\n    </tr>\n    <tr>\n      <th>6489</th>\n      <td>2012-12-31 20:00:00</td>\n      <td>186</td>\n    </tr>\n    <tr>\n      <th>6490</th>\n      <td>2012-12-31 21:00:00</td>\n      <td>146</td>\n    </tr>\n    <tr>\n      <th>6491</th>\n      <td>2012-12-31 22:00:00</td>\n      <td>116</td>\n    </tr>\n    <tr>\n      <th>6492</th>\n      <td>2012-12-31 23:00:00</td>\n      <td>69</td>\n    </tr>\n  </tbody>\n</table>\n<p>6493 rows × 2 columns</p>\n</div>"
     },
     "execution_count": 33,
     "metadata": {},
     "output_type": "execute_result"
    }
   ],
   "source": [
    "submission = pd.DataFrame({'datetime':X_test.index,'count':y_pred_test})\n",
    "submission"
   ],
   "metadata": {
    "collapsed": false
   }
  },
  {
   "cell_type": "code",
   "execution_count": 34,
   "outputs": [
    {
     "name": "stdout",
     "output_type": "stream",
     "text": [
      "Saved file: Bike_Predictions_DB_Abs.csv\n"
     ]
    }
   ],
   "source": [
    "filename = 'Bike_Predictions_DB_Abs.csv'\n",
    "\n",
    "submission.to_csv(filename,index=False)\n",
    "\n",
    "print('Saved file: ' + filename)"
   ],
   "metadata": {
    "collapsed": false
   }
  }
 ],
 "metadata": {
  "kernelspec": {
   "display_name": "Python 3",
   "language": "python",
   "name": "python3"
  },
  "language_info": {
   "codemirror_mode": {
    "name": "ipython",
    "version": 2
   },
   "file_extension": ".py",
   "mimetype": "text/x-python",
   "name": "python",
   "nbconvert_exporter": "python",
   "pygments_lexer": "ipython2",
   "version": "2.7.6"
  }
 },
 "nbformat": 4,
 "nbformat_minor": 0
}
